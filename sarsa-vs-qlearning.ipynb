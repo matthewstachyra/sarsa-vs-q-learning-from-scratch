{
 "cells": [
  {
   "cell_type": "code",
   "execution_count": 2,
   "id": "969d8ecf",
   "metadata": {},
   "outputs": [],
   "source": [
    "import os\n",
    "import random\n",
    "\n",
    "import numpy as np\n",
    "import matplotlib.pyplot as plt"
   ]
  },
  {
   "cell_type": "markdown",
   "id": "05964e69",
   "metadata": {},
   "source": [
    "# Environment"
   ]
  },
  {
   "cell_type": "code",
   "execution_count": 3,
   "id": "dae5dffd",
   "metadata": {},
   "outputs": [],
   "source": [
    "\n",
    "class Environment:\n",
    "    def __init__(self, f):\n",
    "        self.file = f\n",
    "        self.lines = self.convert_file()\n",
    "        self.cliff = self.build_cliff()\n",
    "        self.rmap = { \"0\" : -100, \"1\" : -1, \"f\" : -1, \"s\" : -1 }\n",
    "    \n",
    "    def convert_file(self):\n",
    "        lines = []\n",
    "        with open(self.file) as f:\n",
    "            lines = f.readlines()\n",
    "        return lines\n",
    "    \n",
    "    def build_cliff(self):\n",
    "        cliff = []\n",
    "        for i in range(len(self.lines)):\n",
    "            level = []\n",
    "            for j in range(len(self.lines[i])):\n",
    "                if self.lines[i][j] != '\\n':\n",
    "                    level.extend(self.lines[i][j])\n",
    "            cliff.append(level)\n",
    "        return np.asarray(cliff)\n",
    "\n",
    "    def get_cliff(self):\n",
    "        return self.cliff\n",
    "    \n",
    "    def print_env(self):\n",
    "        for l in self.lines:\n",
    "            print(l, end=\"\")\n",
    "    \n",
    "    def get_start(self):\n",
    "        # returns the starting position\n",
    "        # here, there is only one possibility\n",
    "        ixs = np.argwhere(self.cliff=='s').tolist()\n",
    "        i = np.random.choice(len(ixs), 1)\n",
    "        s = ixs[i[0]]\n",
    "        self.start = s\n",
    "        return self.start\n",
    "\n",
    "    def stepped_off_cliff(self, x, y):\n",
    "        # checks whether the agent is stepping off the \n",
    "        # cliff with the current action\n",
    "        return self.cliff[x][y] == '0'\n",
    "\n",
    "    def stepped_out_of_bounds(self, x, y):\n",
    "        if x<0 or y<0 or x>=len(self.cliff) or y>=len(self.cliff[0]):\n",
    "            return True\n",
    "        return False \n",
    "    \n",
    "    def finished(self, x, y):\n",
    "        return self.cliff[x][y] == 'f'\n",
    "    \n",
    "    def get_reward(self, x, y):\n",
    "        mpos = self.cliff[x][y]\n",
    "        return self.rmap[mpos]\n",
    "        "
   ]
  },
  {
   "cell_type": "markdown",
   "id": "82f2f7a8",
   "metadata": {},
   "source": [
    "# Agent"
   ]
  },
  {
   "cell_type": "code",
   "execution_count": 4,
   "id": "098d6c57",
   "metadata": {},
   "outputs": [],
   "source": [
    "class Agent:\n",
    "    def __init__(self, env):\n",
    "        self.env = env\n",
    "        self.s = env.get_start()\n",
    "        self.x = self.s[0]\n",
    "        self.y = self.s[1]\n",
    "        self.a = [[1,0], [0,1], [-1,0], [0,-1]]\n",
    "    \n",
    "    def get_actions(self):\n",
    "        return self.a\n",
    "    \n",
    "    def reset_agent(self):\n",
    "        self.s = self.env.get_start()\n",
    "    \n",
    "    def get_start(self):\n",
    "        self.s = self.env.get_start()\n",
    "        return self.s\n",
    "    \n",
    "    def get_valid_actions(self, x, y):\n",
    "        # valid is defined here as those actions where you\n",
    "        # don't go out of bounds\n",
    "        alist = []\n",
    "        for a in self.a:\n",
    "            nx = x - a[0]\n",
    "            ny = y + a[1]\n",
    "            # ensure that the new x and new y are not out \n",
    "            # of the array bounds\n",
    "            if not self.env.stepped_out_of_bounds(nx, ny):\n",
    "                alist.append(a)\n",
    "        return alist\n",
    "        "
   ]
  },
  {
   "cell_type": "markdown",
   "id": "7bf790a6",
   "metadata": {},
   "source": [
    "# SARSA"
   ]
  },
  {
   "cell_type": "code",
   "execution_count": 5,
   "id": "3ad11cc9",
   "metadata": {},
   "outputs": [],
   "source": [
    "class SARSA:\n",
    "    def __init__(self, epsilon, discount_rate, learning_rate, agent, environment, episodes, runs):\n",
    "        self.e = epsilon\n",
    "        self.d = discount_rate\n",
    "        self.l = learning_rate\n",
    "        self.env = environment\n",
    "        self.agent = agent\n",
    "        self.runs = runs\n",
    "        self.episodes = episodes\n",
    "        self.episode = {}              # e[t] = (s, r), where s or state is (x, y) and r is reward\n",
    "        self.Q = self.initialize()     # Q[s] = q, where s includes both state and action information\n",
    "                                       #           as a tuple (x, y, change_to_x, change_to_y)\n",
    "    \n",
    "    def initialize(self):\n",
    "        # by default sets all Q values to 0\n",
    "        d = {}\n",
    "        for x in range(len(self.env.get_cliff())):\n",
    "            for y in range(len(self.env.get_cliff()[x])):\n",
    "                for a in self.agent.get_actions():\n",
    "                    dx, dy = a[0], a[1]\n",
    "                    s = [x, y, dx, dy]\n",
    "                    d[tuple(s)] = 0\n",
    "        return d\n",
    "\n",
    "\n",
    "    def get_next_action(self, x, y):\n",
    "        if(np.random.binomial(1, self.e)): # 1 if exploring, 0 if exploiting\n",
    "            # valid here means not out of the bounds of the array\n",
    "            #   but we still need to check whether it is \"off the cliff\"Agent\n",
    "            #   incurring the -100 reward/penalty\n",
    "            valid_actions = self.agent.get_valid_actions(x, y)\n",
    "            exploring =  valid_actions[random.randint(0, len(valid_actions))-1]\n",
    "            return exploring[0], exploring[1], \"exploring\"\n",
    "        a = self.get_greedy_action(x, y) # state returned has form (x, y)\n",
    "        return a[0], a[1], \"greedy\" # dx, dy\n",
    "    \n",
    "\n",
    "    def get_greedy_action(self, x, y):\n",
    "        sas = [tuple([x, y, a[0], a[1]]) for a in self.agent.get_valid_actions(x, y)] \n",
    "        subset_dict = {k:v for k, v in self.Q.items() if k in sas} # subset dict to keys\n",
    "        idxs = max(subset_dict, key=subset_dict.get) # return key for max value\n",
    "        return idxs[-2:] # return (dx, dy) from (x, y, dx, dy)\n",
    "    \n",
    "    \n",
    "    def update_state(self, old_x, old_y, old_dx, old_dy):\n",
    "        r = -1 # set default reward\n",
    "        # update state\n",
    "        new_x = old_x - old_dx # subtract because going up means reducing index\n",
    "        new_y = old_y + old_dy\n",
    "        # check whether (x,y) is out of array bounds or \"off the cliff\"\n",
    "        if self.env.stepped_out_of_bounds(new_x, new_y) or self.env.stepped_off_cliff(new_x, new_y):\n",
    "            s = self.env.get_start()\n",
    "            new_x, new_y = s[0], s[1]\n",
    "            r = -100\n",
    "        return new_x, new_y, r\n",
    "\n",
    "\n",
    "    def update_q(self, old_x, old_y, old_dx, old_dy, new_x, new_y, new_dx, new_dy, r):\n",
    "        # s, s'\n",
    "        old_sa = tuple([old_x, old_y, old_dx, old_dy])\n",
    "        new_sa = tuple([new_x, new_y, new_dx, new_dy])\n",
    "        # set target\n",
    "        target = r + (self.d * self.Q[new_sa])\n",
    "        # make on policy update\n",
    "        #   it is on policy because the key (state, action pair) where we update the q function\n",
    "        #   is the same as the one that generated the action\n",
    "        oldq = self.Q[old_sa]\n",
    "        self.Q[old_sa] = oldq + self.l*(target - oldq)\n",
    "\n",
    "    \n",
    "    def run(self, n=1):\n",
    "        i = n # default is 1 run so n is only specified when needed \n",
    "        cr_by_episode = []\n",
    "        while i != 0: \n",
    "            self.episode = {}\n",
    "            t = 0\n",
    "            tr = 0\n",
    "            s = self.agent.get_start() \n",
    "            x, y = s[0], s[1]\n",
    "            dx, dy, _ = self.get_next_action(x, y) \n",
    "            while(not self.env.finished(x, y)):\n",
    "                old_x, old_y, old_dx, old_dy = x, y, dx, dy\n",
    "                x, y, r = self.update_state(old_x, old_y, old_dx, old_dy)\n",
    "                dx, dy, _ = self.get_next_action(x, y)\n",
    "                self.update_q(old_x, old_y, old_dx, old_dy, x, y, dx, dy, r) \n",
    "                self.episode[t] = ((old_x, old_y, old_dx, old_dy), r)\n",
    "                t += 1\n",
    "                tr += r\n",
    "            cr_by_episode.append(tr)\n",
    "            self.episode[t] = ((x, y, dx, dy), r)\n",
    "            i -= 1\n",
    "        return self.episode, cr_by_episode # return the last episode created\n",
    "    \n",
    "\n",
    "    def change_env(self, env):\n",
    "        # changed environemnt to use experimentally\n",
    "        self.env = env\n",
    "\n",
    "\n",
    "    def DEBUG_PRINT(self, timestep, old_x, old_y, old_dx, old_dy, x, y, dx, dy, atype):\n",
    "        # [0] print time step\n",
    "        print(timestep)\n",
    "\n",
    "        # [1] details about state-action update\n",
    "        print(f\"{old_x, old_y} and {old_dx, old_dy} -> {x, y} and {dx, dy}\")\n",
    "\n",
    "        # [2] details about action\n",
    "        #   whether greedy or exploratory\n",
    "        #   what q key-value pairs it was selected from\n",
    "        sa_pairs = [(old_x, old_y, _dx, _dy) \n",
    "                    for _dx, _dy \n",
    "                    in self.agent.get_valid_actions(old_x, old_y)]\n",
    "        qvalues = [(sa, self.Q[sa]) for sa in sa_pairs]\n",
    "        print(f\"{dx, dy} action selected was {atype} from {qvalues}\")\n",
    "\n",
    "        # new line to indicate new episode\n",
    "        print()\n",
    "    \n",
    "\n",
    "    def __call__(self, reset=True):\n",
    "        episodes_in_run = []\n",
    "        q = self.Q # saves any prior non-zero'ed Q function, in case needed\n",
    "        for r in range(self.runs): # 50\n",
    "            # default\n",
    "            if reset:\n",
    "                self.Q = self.initialize() \n",
    "            # reset q back to what it was for the experimental run\n",
    "            else:\n",
    "                self.Q = q \n",
    "            self.Q = self.initialize() \n",
    "            cr_by_episode = []\n",
    "\n",
    "            # Main loop\n",
    "            #   Each episode ends when the agent's position (x, y)\n",
    "            #   is at the finish state.\n",
    "            #   \n",
    "            #   Episode starts with (x, y, dx, dy) - an initial position\n",
    "            #   an an initial action. The q value for this state-action\n",
    "            #   pair is based on the q value of the very next state and\n",
    "            #   the reward we get in this state.\n",
    "            for e in range(self.episodes): # 500\n",
    "                self.episode = {}\n",
    "                t = 0\n",
    "                r = 0\n",
    "                tr = r\n",
    "\n",
    "                # state\n",
    "                s = self.agent.get_start() \n",
    "                x, y = s[0], s[1]\n",
    "\n",
    "                # action\n",
    "                dx, dy, atype = self.get_next_action(x, y) \n",
    "\n",
    "                while(not self.env.finished(x, y)):\n",
    "                    old_x, old_y, old_dx, old_dy = x, y, dx, dy\n",
    "                    x, y, r = self.update_state(old_x, old_y, old_dx, old_dy)\n",
    "                    dx, dy, atype = self.get_next_action(x, y)\n",
    "                    self.update_q(old_x, old_y, old_dx, old_dy, x, y, dx, dy, r) \n",
    "                    self.episode[t] = ((old_x, old_y, old_dx, old_dy), r)\n",
    "                    # self.DEBUG_PRINT(t, old_x, old_y, old_dx, old_dy, x, y, dx, dy, atype)\n",
    "                    t += 1\n",
    "                    tr += r\n",
    "                cr_by_episode.append([tr])\n",
    "                self.episode[t] = ((x, y, dx, dy), r)\n",
    "            episodes_in_run.append(cr_by_episode) # outer dimension should be 10, with inner dimension 500\n",
    "        return episodes_in_run\n"
   ]
  },
  {
   "cell_type": "code",
   "execution_count": 6,
   "id": "954b5283",
   "metadata": {},
   "outputs": [],
   "source": [
    "class GridWorldViz:\n",
    "    def __init__(self, RL_learner):\n",
    "        self.RL = RL_learner\n",
    "        self.dimension = self.RL.env.cliff.shape\n",
    "        self.dirmap = { (1, 0) : \"[^]\", \n",
    "                        (0, 1) : \"[>]\", \n",
    "                        (-1, 0) : \"[v]\", \n",
    "                        (0, -1) : \"[<]\" }\n",
    "         \n",
    "    def draw_policy(self):\n",
    "        '''Print out cliff world with the optimal actions (left, right, up, down)\n",
    "        overlaid on each state in the gridworld.\n",
    "        '''\n",
    "        # for each state, gets the action that produces the max value\n",
    "        # actions are mapped as follows\n",
    "        # dx  dy\n",
    "        # ------\n",
    "        # [1, 0]  is > (right)\n",
    "        # [0, 1]  is v (down)\n",
    "        # [-1, 0] is < (left)\n",
    "        # [0, -1] is ^ (up)\n",
    "        #\n",
    "        # the character for the direction is placed within \"[\" and \"]\" \n",
    "        \n",
    "        maxx = self.dimension[0]\n",
    "        maxy = self.dimension[1]\n",
    "        for x in range(maxx):\n",
    "            row = []\n",
    "            for y in range(maxy):\n",
    "                # get the greedy action\n",
    "                ga = self.RL.get_greedy_action(x, y)\n",
    "                if self.RL.env.cliff[x][y] != '0':\n",
    "                    row.append(self.dirmap[tuple(ga)])\n",
    "                # do not append a direction if it is the cliff\n",
    "                else:\n",
    "                    row.append(\"[ ]\")\n",
    "            print(''.join(row))\n",
    "    \n",
    "    def draw_episode(self, episode):\n",
    "        # built dict with movement boxes\n",
    "        # key is position, value is the movement box\n",
    "        d = { sa[0][:-2] : self.dirmap[sa[0][-2:]] for sa in episode.values() }\n",
    "        maxx = self.dimension[0]\n",
    "        maxy = self.dimension[1]\n",
    "        for x in range(maxx):\n",
    "            row = []\n",
    "            for y in range(maxy):\n",
    "                if (x,y) in d.keys():\n",
    "                    row.append(d[(x,y)])\n",
    "                else:\n",
    "                    row.append(\"[ ]\")\n",
    "            print(''.join(row))"
   ]
  },
  {
   "cell_type": "code",
   "execution_count": 7,
   "id": "4e6d3e70",
   "metadata": {},
   "outputs": [],
   "source": [
    "f = \"env.txt\"\n",
    "epsilon = 0.1\n",
    "discount_rate = 0.9\n",
    "learning_rate = 0.1\n",
    "runs = 50\n",
    "episodes = 500\n",
    "env = Environment(f)\n",
    "agent = Agent(env)"
   ]
  },
  {
   "cell_type": "code",
   "execution_count": 19,
   "id": "ef6144a3",
   "metadata": {},
   "outputs": [],
   "source": [
    "sarsa = SARSA(epsilon=epsilon,\n",
    "              discount_rate=discount_rate,\n",
    "              learning_rate=learning_rate,\n",
    "              runs=runs,\n",
    "              episodes=episodes,\n",
    "              environment=env,\n",
    "              agent=agent)"
   ]
  },
  {
   "cell_type": "code",
   "execution_count": 20,
   "id": "10cbb3ac",
   "metadata": {},
   "outputs": [
    {
     "name": "stdout",
     "output_type": "stream",
     "text": [
      "111111111111\n",
      "111111111111\n",
      "111111111111\n",
      "s0000000000f\n"
     ]
    }
   ],
   "source": [
    "sarsa.env.print_env()"
   ]
  },
  {
   "cell_type": "code",
   "execution_count": 21,
   "id": "3a1259e2",
   "metadata": {},
   "outputs": [],
   "source": [
    "sarsa_runs = sarsa()"
   ]
  },
  {
   "cell_type": "code",
   "execution_count": 22,
   "id": "85e22599",
   "metadata": {},
   "outputs": [
    {
     "data": {
      "text/plain": [
       "[<matplotlib.lines.Line2D at 0x7f54157e93c0>]"
      ]
     },
     "execution_count": 22,
     "metadata": {},
     "output_type": "execute_result"
    },
    {
     "data": {
      "image/png": "[encoded data removed]",
      "text/plain": [
       "<Figure size 640x480 with 1 Axes>"
      ]
     },
     "metadata": {},
     "output_type": "display_data"
    }
   ],
   "source": [
    "x = range(0, len(sarsa_runs[0])) # 500\n",
    "y = np.average(np.asarray(sarsa_runs), axis=0)\n",
    "\n",
    "plt.xlabel(\"Episode\")\n",
    "plt.ylabel(\"Cumulative reward\")\n",
    "plt.title(f\"SARSA - learning rate {learning_rate}\")\n",
    "plt.ylim(-250, 0)\n",
    "plt.plot(x,y);"
   ]
  },
  {
   "cell_type": "code",
   "execution_count": 23,
   "id": "248d5a05",
   "metadata": {},
   "outputs": [],
   "source": [
    "sarsa_viz = GridWorldViz(sarsa)"
   ]
  },
  {
   "cell_type": "code",
   "execution_count": 24,
   "id": "35116ce6",
   "metadata": {},
   "outputs": [
    {
     "name": "stdout",
     "output_type": "stream",
     "text": [
      "[>][>][>][>][>][>][>][>][>][>][v][v]\n",
      "[>][>][>][>][>][>][>][>][>][>][>][v]\n",
      "[^][^][<][^][>][^][^][^][^][^][>][v]\n",
      "[^][ ][ ][ ][ ][ ][ ][ ][ ][ ][ ][^]\n"
     ]
    }
   ],
   "source": [
    "sarsa_viz.draw_policy()"
   ]
  },
  {
   "cell_type": "code",
   "execution_count": 29,
   "id": "3480397e",
   "metadata": {},
   "outputs": [
    {
     "name": "stdout",
     "output_type": "stream",
     "text": [
      "[ ][ ][ ][ ][ ][ ][ ][ ][ ][ ][ ][ ]\n",
      "[>][>][>][>][>][>][>][>][>][>][>][v]\n",
      "[^][ ][ ][ ][ ][ ][ ][ ][ ][ ][ ][v]\n",
      "[^][ ][ ][ ][ ][ ][ ][ ][ ][ ][ ][^]\n"
     ]
    }
   ],
   "source": [
    "sarsa_op, _ = sarsa.run() # runs an episode with the establish q table\n",
    "sarsa_viz.draw_episode(sarsa_op)"
   ]
  },
  {
   "cell_type": "markdown",
   "id": "dc183aef",
   "metadata": {},
   "source": [
    "# Q-Learning"
   ]
  },
  {
   "cell_type": "code",
   "execution_count": 123,
   "id": "f8ff69dd",
   "metadata": {},
   "outputs": [],
   "source": [
    "class QLearning:\n",
    "    def __init__(self, epsilon, discount_rate, learning_rate, agent, environment, episodes, runs):\n",
    "        self.e = epsilon\n",
    "        self.d = discount_rate\n",
    "        self.l = learning_rate\n",
    "        self.env = environment\n",
    "        self.agent = agent\n",
    "        self.runs = runs\n",
    "        self.episodes = episodes\n",
    "        self.episode = {}              # e[t] = (s, r), where s or state is (x, y) and r is reward\n",
    "        self.Q = self.initialize()     # Q[s] = q, where s includes both state and action information\n",
    "                                       #           as a tuple (x, y, change_to_x, change_to_y)\n",
    "    \n",
    "    def initialize(self):\n",
    "        # by default sets all Q values to 0\n",
    "        d = {}\n",
    "        for x in range(len(self.env.get_cliff())):\n",
    "            for y in range(len(self.env.get_cliff()[x])):\n",
    "                for a in self.agent.get_actions():\n",
    "                    dx, dy = a[0], a[1]\n",
    "                    s = [x, y, dx, dy]\n",
    "                    d[tuple(s)] = 0\n",
    "        return d\n",
    "\n",
    "\n",
    "    def get_next_action(self, x, y):\n",
    "        if(np.random.binomial(1, self.e)): # 1 if exploring, 0 if exploiting\n",
    "            # valid here means not out of the bounds of the array\n",
    "            #   but we still need to check whether it is \"off the cliff\"Agent\n",
    "            #   incurring the -100 reward/penalty\n",
    "            valid_actions = self.agent.get_valid_actions(x, y)\n",
    "            exploring =  valid_actions[random.randint(0, len(valid_actions))-1]\n",
    "            return exploring[0], exploring[1], \"exploring\"\n",
    "        a = self.get_greedy_action(x, y) # state returned has form (x, y)\n",
    "        return a[0], a[1], \"greedy\" # dx, dy\n",
    "    \n",
    "\n",
    "    def get_greedy_action(self, x, y):\n",
    "        x = self.agent.get_valid_actions(x, y)\n",
    "        if len(x)==0:\n",
    "            print(x)\n",
    "        sas = [tuple([x, y, a[0], a[1]]) for a in self.agent.get_valid_actions(x, y)] \n",
    "        # print(f\"within get_greedy_action() {self.Q.items()}\")\n",
    "        subset_dict = {k:v for k, v in self.Q.items() if k in sas} # subset dict to keys\n",
    "        idxs = max(subset_dict, key=subset_dict.get) # return key for max value\n",
    "        return idxs[-2:] # return (dx, dy) from (x, y, dx, dy)\n",
    "    \n",
    "    \n",
    "    def update_state(self, old_x, old_y, old_dx, old_dy):\n",
    "        r = -1 # set default reward\n",
    "        # update state\n",
    "        new_x = old_x - old_dx # subtract because going up means reducing index\n",
    "        new_y = old_y + old_dy\n",
    "        # check whether (x,y) is out of array bounds or \"off the cliff\"\n",
    "        if self.env.stepped_out_of_bounds(new_x, new_y) or self.env.stepped_off_cliff(new_x, new_y):\n",
    "            s = self.env.get_start()\n",
    "            new_x, new_y = s[0], s[1]\n",
    "            r = -100\n",
    "        return new_x, new_y, r\n",
    "\n",
    "\n",
    "    def update_q(self, old_x, old_y, old_dx, old_dy, new_x, new_y, new_dx, new_dy, r):\n",
    "        # s, s'\n",
    "        old_sa = tuple([old_x, old_y, old_dx, old_dy])\n",
    "        new_sa = tuple([new_x, new_y, new_dx, new_dy])\n",
    "        # set target\n",
    "        target = r + (self.d * self.Q[new_sa])\n",
    "        # make on policy update\n",
    "        #   it is on policy because the key (state, action pair) where we update the q function\n",
    "        #   is the same as the one that generated the action\n",
    "        oldq = self.Q[old_sa]\n",
    "        self.Q[old_sa] = oldq + self.l*(target - oldq)\n",
    "    \n",
    "    def run(self, r=1, e=1):\n",
    "        i = r # default is 1 run so e is only specified when needed \n",
    "        j = e # default is 1 episode so r is only specified when needed\n",
    "        cr_by_episode = []\n",
    "        while j != 0:\n",
    "            while i != 0: \n",
    "                self.episode = {}\n",
    "                t = 0\n",
    "                tr = 0\n",
    "                s = self.agent.get_start() \n",
    "                x, y = s[0], s[1]\n",
    "                dx, dy, _ = self.get_next_action(x, y) \n",
    "                while(not self.env.finished(x, y)):\n",
    "                    old_x, old_y, old_dx, old_dy = x, y, dx, dy\n",
    "                    x, y, r = self.update_state(old_x, old_y, old_dx, old_dy)\n",
    "                    dx, dy, _ = self.get_next_action(x, y)\n",
    "                    # we pass the greedy action (greedy_dx, greedy_dy) to update_q() rather than\n",
    "                    # the policy's dx, dy we get above\n",
    "                    greedy_dx, greedy_dy = self.get_greedy_action(x, y)\n",
    "                    self.update_q(old_x, old_y, old_dx, old_dy, x, y, greedy_dx, greedy_dy, r) \n",
    "                    self.episode[t] = ((old_x, old_y, old_dx, old_dy), r)\n",
    "                    t += 1\n",
    "                    tr += r\n",
    "                cr_by_episode.append(tr)\n",
    "                self.episode[t] = ((x, y, dx, dy), r)\n",
    "                i -= 1\n",
    "            j -= 1\n",
    "        return self.episode, cr_by_episode # return the last episode created\n",
    "    \n",
    "\n",
    "    def change_env(self, env):\n",
    "        # changed environemnt to use experimentally\n",
    "        self.env = env\n",
    "\n",
    "\n",
    "    def DEBUG_PRINT(self, timestep, old_x, old_y, old_dx, old_dy, x, y, dx, dy, atype):\n",
    "        # [0] print time step\n",
    "        print(timestep)\n",
    "\n",
    "        # [1] details about state-action update\n",
    "        print(f\"{old_x, old_y} and {old_dx, old_dy} -> {x, y} and {dx, dy}\")\n",
    "\n",
    "        # [2] details about action\n",
    "        #   whether greedy or exploratory\n",
    "        #   what q key-value pairs it was selected from\n",
    "        sa_pairs = [(old_x, old_y, _dx, _dy) \n",
    "                    for _dx, _dy \n",
    "                    in self.agent.get_valid_actions(old_x, old_y)]\n",
    "        qvalues = [(sa, self.Q[sa]) for sa in sa_pairs]\n",
    "        print(f\"{dx, dy} action selected was {atype} from {qvalues}\")\n",
    "\n",
    "        # new line to indicate new episode\n",
    "        print()\n",
    "    \n",
    "\n",
    "    def __call__(self, reset=True):\n",
    "        episodes_in_run = []\n",
    "        for r in range(self.runs): # 50\n",
    "            self.Q = self.initialize() \n",
    "            cr_by_episode = []\n",
    "\n",
    "            # The difference between the main loop in q-learning and in sarsa is\n",
    "            #   in how the update to the action value (q) is made. In sarsa, it \n",
    "            #   is made using s', a' using the same policy; in q-learning, we\n",
    "            #   make the update using not s', a' but the state-action pair that\n",
    "            #   has the highest q value so far - i.e., we follow a different \n",
    "            #   policy where we are greedy.\n",
    "            for e in range(self.episodes): # 500\n",
    "                print(e)\n",
    "                self.episode = {}\n",
    "                t = 0\n",
    "                r = 0\n",
    "                tr = r\n",
    "\n",
    "                # state\n",
    "                s = self.agent.get_start() \n",
    "                x, y = s[0], s[1]\n",
    "\n",
    "                # action\n",
    "                dx, dy, atype = self.get_next_action(x, y) \n",
    "\n",
    "                while(not self.env.finished(x, y)):\n",
    "                    old_x, old_y, old_dx, old_dy = x, y, dx, dy\n",
    "                    x, y, r = self.update_state(old_x, old_y, old_dx, old_dy)\n",
    "                    dx, dy, atype = self.get_next_action(x, y)\n",
    "                    # we pass the greedy action (greedy_dx, greedy_dy) to update_q() rather than\n",
    "                    # the policy's dx, dy we get above\n",
    "                    greedy_dx, greedy_dy = self.get_greedy_action(x, y)\n",
    "                    self.update_q(old_x, old_y, old_dx, old_dy, x, y, greedy_dx, greedy_dy, r) \n",
    "                    self.episode[t] = ((old_x, old_y, old_dx, old_dy), r)\n",
    "                    # self.DEBUG_PRINT(t, old_x, old_y, old_dx, old_dy, x, y, dx, dy, atype)\n",
    "                    t += 1\n",
    "                    tr += r\n",
    "                cr_by_episode.append([tr])\n",
    "                self.episode[t] = ((x, y, dx, dy), r)\n",
    "            episodes_in_run.append(cr_by_episode) # outer dimension should be 10, with inner dimension 500\n",
    "        return episodes_in_run\n"
   ]
  },
  {
   "cell_type": "code",
   "execution_count": 124,
   "id": "067ab07d",
   "metadata": {},
   "outputs": [],
   "source": [
    "f = \"env.txt\"\n",
    "epsilon = 0.1\n",
    "discount_rate = 0.9\n",
    "learning_rate = 0.5\n",
    "runs = 50\n",
    "episodes = 500\n",
    "env = Environment(f)\n",
    "agent = Agent(env)"
   ]
  },
  {
   "cell_type": "code",
   "execution_count": 125,
   "id": "c19f56bf",
   "metadata": {},
   "outputs": [],
   "source": [
    "ql = QLearning(epsilon=epsilon,\n",
    "              discount_rate=discount_rate,\n",
    "              learning_rate=learning_rate,\n",
    "              runs=runs,\n",
    "              episodes=episodes,\n",
    "              environment=env,\n",
    "              agent=agent)"
   ]
  },
  {
   "cell_type": "code",
   "execution_count": 113,
   "id": "70fb374c",
   "metadata": {},
   "outputs": [
    {
     "name": "stdout",
     "output_type": "stream",
     "text": [
      "111111111111\n",
      "111111111111\n",
      "111111111111\n",
      "s0000000000f\n"
     ]
    }
   ],
   "source": [
    "ql.env.print_env()"
   ]
  },
  {
   "cell_type": "code",
   "execution_count": 82,
   "id": "4defe05a",
   "metadata": {},
   "outputs": [
    {
     "name": "stdout",
     "output_type": "stream",
     "text": [
      "0\n",
      "1\n",
      "2\n",
      "3\n",
      "4\n",
      "5\n",
      "6\n",
      "7\n",
      "8\n",
      "9\n",
      "10\n",
      "11\n",
      "12\n",
      "13\n",
      "14\n",
      "15\n",
      "16\n",
      "17\n",
      "18\n",
      "19\n",
      "20\n",
      "21\n",
      "22\n",
      "23\n",
      "24\n",
      "25\n",
      "26\n",
      "27\n",
      "28\n",
      "29\n",
      "30\n",
      "31\n",
      "32\n",
      "33\n",
      "34\n",
      "35\n",
      "36\n",
      "37\n",
      "38\n",
      "39\n",
      "40\n",
      "41\n",
      "42\n",
      "43\n",
      "44\n",
      "45\n",
      "46\n",
      "47\n",
      "48\n",
      "49\n"
     ]
    }
   ],
   "source": [
    "ql_runs = ql()"
   ]
  },
  {
   "cell_type": "code",
   "execution_count": 83,
   "id": "2e4e223b",
   "metadata": {},
   "outputs": [
    {
     "data": {
      "text/plain": [
       "[<matplotlib.lines.Line2D at 0x7f54110a3d90>]"
      ]
     },
     "execution_count": 83,
     "metadata": {},
     "output_type": "execute_result"
    },
    {
     "data": {
      "image/png": "[encoded data removed]",
      "text/plain": [
       "<Figure size 640x480 with 1 Axes>"
      ]
     },
     "metadata": {},
     "output_type": "display_data"
    }
   ],
   "source": [
    "x = range(0, len(ql_runs[0])) # 500\n",
    "y = np.average(np.asarray(ql_runs), axis=0)\n",
    "\n",
    "plt.xlabel(\"Episode\")\n",
    "plt.ylabel(\"Cumulative reward\")\n",
    "plt.title(f\"QLearning - learning rate {learning_rate}\")\n",
    "plt.ylim(-250, 0)\n",
    "plt.plot(x,y)"
   ]
  },
  {
   "cell_type": "code",
   "execution_count": 84,
   "id": "912761e0",
   "metadata": {},
   "outputs": [],
   "source": [
    "ql_viz = GridWorldViz(ql)"
   ]
  },
  {
   "cell_type": "code",
   "execution_count": 85,
   "id": "d862990c",
   "metadata": {},
   "outputs": [
    {
     "name": "stdout",
     "output_type": "stream",
     "text": [
      "[v][>][>][>][>][>][>][<][>][>][>][v]\n",
      "[>][v][>][>][>][v][>][v][>][v][>][v]\n",
      "[>][>][>][>][>][>][>][>][>][>][>][v]\n",
      "[^][ ][ ][ ][ ][ ][ ][ ][ ][ ][ ][^]\n"
     ]
    }
   ],
   "source": [
    "ql_viz.draw_policy()"
   ]
  },
  {
   "cell_type": "code",
   "execution_count": 86,
   "id": "9d8b03cb",
   "metadata": {},
   "outputs": [],
   "source": [
    "ql_op, _ = ql.run()"
   ]
  },
  {
   "cell_type": "code",
   "execution_count": 87,
   "id": "a292537c",
   "metadata": {},
   "outputs": [
    {
     "name": "stdout",
     "output_type": "stream",
     "text": [
      "[ ][ ][ ][ ][ ][ ][ ][ ][ ][ ][ ][ ]\n",
      "[ ][v][ ][ ][ ][ ][ ][ ][ ][ ][ ][ ]\n",
      "[>][>][>][>][>][>][>][>][>][>][>][v]\n",
      "[^][ ][ ][ ][ ][ ][ ][ ][ ][ ][ ][^]\n"
     ]
    }
   ],
   "source": [
    "ql_viz.draw_episode(ql_op) # 0.5 learning rate produces the expected path"
   ]
  },
  {
   "cell_type": "markdown",
   "id": "33ff42a1",
   "metadata": {},
   "source": [
    "# SARSA to Q-Learning Comparison"
   ]
  },
  {
   "cell_type": "code",
   "execution_count": 88,
   "id": "3377e9f3",
   "metadata": {},
   "outputs": [
    {
     "data": {
      "image/png": "[encoded data removed]",
      "text/plain": [
       "<Figure size 640x480 with 1 Axes>"
      ]
     },
     "metadata": {},
     "output_type": "display_data"
    }
   ],
   "source": [
    "x = range(0, len(sarsa_runs[0])) # 500\n",
    "sarsa = np.average(np.asarray(sarsa_runs), axis=0)\n",
    "ql = np.average(np.asarray(ql_runs), axis=0)\n",
    "\n",
    "plt.xlabel(\"Episode\")\n",
    "plt.ylabel(\"Cumulative reward\")\n",
    "plt.title(f\"Comparison of SARSA to Q-learning\")\n",
    "plt.ylim(-250, 0)\n",
    "plt.plot(x, ql, label=\"Q-Learning\")\n",
    "plt.plot(x, sarsa, label=\"SARSA\")\n",
    "plt.legend();"
   ]
  },
  {
   "cell_type": "markdown",
   "id": "047b98e1",
   "metadata": {},
   "source": [
    "# Experiment\n",
    "A different gridworld"
   ]
  },
  {
   "cell_type": "markdown",
   "id": "4eb0fdc7",
   "metadata": {},
   "source": [
    "This gridworld has a shortcut that is unavailable at the start. After training, the gridworld is changed and the models are run again, with their current Q values, to see whether Q-Learning or SARSA finds the path, whether it converges, and if it does, how quickly does it converge relative to the other method."
   ]
  },
  {
   "cell_type": "code",
   "execution_count": 126,
   "id": "c96a3d86",
   "metadata": {},
   "outputs": [
    {
     "name": "stdout",
     "output_type": "stream",
     "text": [
      "1111111\n",
      "1111111\n",
      "1000001\n",
      "1011111\n",
      "s00000f\n"
     ]
    }
   ],
   "source": [
    "experimental_env = \"exp_env.txt\"\n",
    "env = Environment(experimental_env)\n",
    "env.print_env()"
   ]
  },
  {
   "cell_type": "code",
   "execution_count": 127,
   "id": "465ae078",
   "metadata": {},
   "outputs": [],
   "source": [
    "epsilon = 0.1\n",
    "discount_rate = 0.9\n",
    "ql_lr = 0.5\n",
    "sarsa_lr = 0.1\n",
    "runs = 50\n",
    "episodes = 500\n",
    "env = Environment(f)\n",
    "agent = Agent(env)"
   ]
  },
  {
   "cell_type": "code",
   "execution_count": 128,
   "id": "d1b744e9",
   "metadata": {},
   "outputs": [],
   "source": [
    "exp_ql = QLearning(epsilon=epsilon,\n",
    "              discount_rate=discount_rate,\n",
    "              learning_rate=ql_lr,\n",
    "              runs=runs,\n",
    "              episodes=episodes,\n",
    "              environment=env,\n",
    "              agent=agent)"
   ]
  },
  {
   "cell_type": "code",
   "execution_count": 129,
   "id": "ccdf4d05",
   "metadata": {},
   "outputs": [],
   "source": [
    "exp_sarsa = SARSA(epsilon=epsilon,\n",
    "              discount_rate=discount_rate,\n",
    "              learning_rate=sarsa_lr,\n",
    "              runs=runs,\n",
    "              episodes=episodes,\n",
    "              environment=env,\n",
    "              agent=agent)"
   ]
  },
  {
   "cell_type": "code",
   "execution_count": 130,
   "id": "9a8e8bac",
   "metadata": {},
   "outputs": [],
   "source": [
    "ql_exp_runs = exp_sarsa()\n",
    "sarsa_exp_runs = exp_sarsa()"
   ]
  },
  {
   "cell_type": "code",
   "execution_count": 131,
   "id": "7d9d2729",
   "metadata": {},
   "outputs": [
    {
     "data": {
      "image/png": "[encoded data removed]",
      "text/plain": [
       "<Figure size 640x480 with 1 Axes>"
      ]
     },
     "metadata": {},
     "output_type": "display_data"
    }
   ],
   "source": [
    "x = range(0, len(sarsa_exp_runs[0])) # 500\n",
    "sarsa = np.average(np.asarray(sarsa_exp_runs), axis=0)\n",
    "ql = np.average(np.asarray(ql_exp_runs), axis=0)\n",
    "\n",
    "plt.xlabel(\"Episode\")\n",
    "plt.ylabel(\"Cumulative reward\")\n",
    "plt.title(f\"Comparison of SARSA to Q-learning for experimental track\")\n",
    "plt.ylim(-250, 0)\n",
    "plt.plot(x, ql, label=\"Q-Learning\")\n",
    "plt.plot(x, sarsa, label=\"SARSA\")\n",
    "plt.legend();"
   ]
  },
  {
   "cell_type": "code",
   "execution_count": 132,
   "id": "76a6aabb",
   "metadata": {},
   "outputs": [
    {
     "name": "stdout",
     "output_type": "stream",
     "text": [
      "1111111\n",
      "1111111\n",
      "1000001\n",
      "1111111\n",
      "s00000f\n"
     ]
    }
   ],
   "source": [
    "# the changed gridworld has a shorter path that has become available\n",
    "changed_experimental_env = \"exp_env2.txt\"\n",
    "env2 = Environment(changed_experimental_env)\n",
    "env2.print_env()"
   ]
  },
  {
   "cell_type": "code",
   "execution_count": 133,
   "id": "888d718d",
   "metadata": {},
   "outputs": [],
   "source": [
    "# how do we test the trained algorithms on the changed environment\n",
    "#   - we need to keep the Q function as it is and continue adding to it\n",
    "#   - rather than creating a new class for this, can adjust the existing\n",
    "#     classes where we have (1) a function to change/update the environment"
   ]
  },
  {
   "cell_type": "code",
   "execution_count": 134,
   "id": "c71e23f0",
   "metadata": {},
   "outputs": [],
   "source": [
    "# change environment\n",
    "exp_sarsa.change_env(env2)\n",
    "exp_ql.change_env(env2)"
   ]
  },
  {
   "cell_type": "code",
   "execution_count": 135,
   "id": "3d56d4ef",
   "metadata": {},
   "outputs": [
    {
     "name": "stdout",
     "output_type": "stream",
     "text": [
      "0\n",
      "0\n"
     ]
    },
    {
     "ename": "TypeError",
     "evalue": "unsupported operand type(s) for -: 'list' and 'int'",
     "output_type": "error",
     "traceback": [
      "\u001b[0;31m---------------------------------------------------------------------------\u001b[0m",
      "\u001b[0;31mTypeError\u001b[0m                                 Traceback (most recent call last)",
      "Cell \u001b[0;32mIn [135], line 3\u001b[0m\n\u001b[1;32m      1\u001b[0m \u001b[39m# using the prior trained Q function, continue\u001b[39;00m\n\u001b[1;32m      2\u001b[0m \u001b[39m#   with another 50 runs of 500 episodes each\u001b[39;00m\n\u001b[0;32m----> 3\u001b[0m added_ql_runs \u001b[39m=\u001b[39m exp_ql(reset\u001b[39m=\u001b[39;49m\u001b[39mFalse\u001b[39;49;00m)\n",
      "Cell \u001b[0;32mIn [123], line 157\u001b[0m, in \u001b[0;36mQLearning.__call__\u001b[0;34m(self, reset)\u001b[0m\n\u001b[1;32m    154\u001b[0m x, y \u001b[39m=\u001b[39m s[\u001b[39m0\u001b[39m], s[\u001b[39m1\u001b[39m]\n\u001b[1;32m    156\u001b[0m \u001b[39m# action\u001b[39;00m\n\u001b[0;32m--> 157\u001b[0m dx, dy, atype \u001b[39m=\u001b[39m \u001b[39mself\u001b[39;49m\u001b[39m.\u001b[39;49mget_next_action(x, y) \n\u001b[1;32m    159\u001b[0m \u001b[39mwhile\u001b[39;00m(\u001b[39mnot\u001b[39;00m \u001b[39mself\u001b[39m\u001b[39m.\u001b[39menv\u001b[39m.\u001b[39mfinished(x, y)):\n\u001b[1;32m    160\u001b[0m     old_x, old_y, old_dx, old_dy \u001b[39m=\u001b[39m x, y, dx, dy\n",
      "Cell \u001b[0;32mIn [123], line 34\u001b[0m, in \u001b[0;36mQLearning.get_next_action\u001b[0;34m(self, x, y)\u001b[0m\n\u001b[1;32m     32\u001b[0m     exploring \u001b[39m=\u001b[39m  valid_actions[random\u001b[39m.\u001b[39mrandint(\u001b[39m0\u001b[39m, \u001b[39mlen\u001b[39m(valid_actions))\u001b[39m-\u001b[39m\u001b[39m1\u001b[39m]\n\u001b[1;32m     33\u001b[0m     \u001b[39mreturn\u001b[39;00m exploring[\u001b[39m0\u001b[39m], exploring[\u001b[39m1\u001b[39m], \u001b[39m\"\u001b[39m\u001b[39mexploring\u001b[39m\u001b[39m\"\u001b[39m\n\u001b[0;32m---> 34\u001b[0m a \u001b[39m=\u001b[39m \u001b[39mself\u001b[39;49m\u001b[39m.\u001b[39;49mget_greedy_action(x, y) \u001b[39m# state returned has form (x, y)\u001b[39;00m\n\u001b[1;32m     35\u001b[0m \u001b[39mreturn\u001b[39;00m a[\u001b[39m0\u001b[39m], a[\u001b[39m1\u001b[39m], \u001b[39m\"\u001b[39m\u001b[39mgreedy\u001b[39m\u001b[39m\"\u001b[39m\n",
      "Cell \u001b[0;32mIn [123], line 42\u001b[0m, in \u001b[0;36mQLearning.get_greedy_action\u001b[0;34m(self, x, y)\u001b[0m\n\u001b[1;32m     40\u001b[0m \u001b[39mif\u001b[39;00m \u001b[39mlen\u001b[39m(x)\u001b[39m==\u001b[39m\u001b[39m0\u001b[39m:\n\u001b[1;32m     41\u001b[0m     \u001b[39mprint\u001b[39m(x)\n\u001b[0;32m---> 42\u001b[0m sas \u001b[39m=\u001b[39m [\u001b[39mtuple\u001b[39m([x, y, a[\u001b[39m0\u001b[39m], a[\u001b[39m1\u001b[39m]]) \u001b[39mfor\u001b[39;00m a \u001b[39min\u001b[39;00m \u001b[39mself\u001b[39;49m\u001b[39m.\u001b[39;49magent\u001b[39m.\u001b[39;49mget_valid_actions(x, y)] \n\u001b[1;32m     43\u001b[0m \u001b[39m# print(f\"within get_greedy_action() {self.Q.items()}\")\u001b[39;00m\n\u001b[1;32m     44\u001b[0m subset_dict \u001b[39m=\u001b[39m {k:v \u001b[39mfor\u001b[39;00m k, v \u001b[39min\u001b[39;00m \u001b[39mself\u001b[39m\u001b[39m.\u001b[39mQ\u001b[39m.\u001b[39mitems() \u001b[39mif\u001b[39;00m k \u001b[39min\u001b[39;00m sas} \u001b[39m# subset dict to keys\u001b[39;00m\n",
      "Cell \u001b[0;32mIn [4], line 24\u001b[0m, in \u001b[0;36mAgent.get_valid_actions\u001b[0;34m(self, x, y)\u001b[0m\n\u001b[1;32m     22\u001b[0m alist \u001b[39m=\u001b[39m []\n\u001b[1;32m     23\u001b[0m \u001b[39mfor\u001b[39;00m a \u001b[39min\u001b[39;00m \u001b[39mself\u001b[39m\u001b[39m.\u001b[39ma:\n\u001b[0;32m---> 24\u001b[0m     nx \u001b[39m=\u001b[39m x \u001b[39m-\u001b[39;49m a[\u001b[39m0\u001b[39;49m]\n\u001b[1;32m     25\u001b[0m     ny \u001b[39m=\u001b[39m y \u001b[39m+\u001b[39m a[\u001b[39m1\u001b[39m]\n\u001b[1;32m     26\u001b[0m     \u001b[39m# ensure that the new x and new y are not out \u001b[39;00m\n\u001b[1;32m     27\u001b[0m     \u001b[39m# of the array bounds\u001b[39;00m\n",
      "\u001b[0;31mTypeError\u001b[0m: unsupported operand type(s) for -: 'list' and 'int'"
     ]
    }
   ],
   "source": [
    "# using the prior trained Q function, continue\n",
    "#   with another 50 runs of 500 episodes each\n",
    "added_ql_runs = exp_ql(reset=False)"
   ]
  },
  {
   "cell_type": "code",
   "execution_count": null,
   "id": "6c4da5fd",
   "metadata": {},
   "outputs": [],
   "source": [
    "# append these new 500 episodes to to the old ones\n",
    "ql_exp_runs = np.concatenate((ql_exp_runs, added_ql_runs), axis=0)"
   ]
  },
  {
   "cell_type": "code",
   "execution_count": null,
   "id": "d55d81db",
   "metadata": {},
   "outputs": [],
   "source": [
    "x = range(0, len(sarsa_exp_runs[0])) # 500\n",
    "sarsa = np.average(np.asarray(sarsa_exp_runs), axis=0)\n",
    "ql = np.average(np.asarray(ql_exp_runs), axis=0)\n",
    "\n",
    "plt.xlabel(\"Episode\")\n",
    "plt.ylabel(\"Cumulative reward\")\n",
    "plt.title(f\"Comparison of SARSA to Q-learning for experimental track\")\n",
    "plt.ylim(-250, 0)\n",
    "plt.plot(x, ql, label=\"Q-Learning\")\n",
    "plt.plot(x, sarsa, label=\"SARSA\")\n",
    "plt.legend();"
   ]
  },
  {
   "cell_type": "code",
   "execution_count": null,
   "id": "e062ba58",
   "metadata": {},
   "outputs": [
    {
     "data": {
      "text/plain": [
       "array([1, 2, 3, 4, 5, 6, 7, 8])"
      ]
     },
     "execution_count": 68,
     "metadata": {},
     "output_type": "execute_result"
    }
   ],
   "source": [
    "a1 = np.asarray([1,2,3,4])\n",
    "a2 = np.asarray([5,6,7,8])\n",
    "ac = np.concatenate((a1, a2), axis=0)\n",
    "ac"
   ]
  },
  {
   "cell_type": "code",
   "execution_count": null,
   "id": "8456df8a",
   "metadata": {},
   "outputs": [],
   "source": []
  },
  {
   "cell_type": "code",
   "execution_count": null,
   "id": "9bab16b8",
   "metadata": {},
   "outputs": [],
   "source": []
  },
  {
   "cell_type": "code",
   "execution_count": null,
   "id": "08c2b52b",
   "metadata": {},
   "outputs": [],
   "source": []
  },
  {
   "cell_type": "code",
   "execution_count": null,
   "id": "29182702",
   "metadata": {},
   "outputs": [],
   "source": []
  },
  {
   "cell_type": "code",
   "execution_count": null,
   "id": "43857c26",
   "metadata": {},
   "outputs": [],
   "source": []
  },
  {
   "cell_type": "code",
   "execution_count": null,
   "id": "88523ebd",
   "metadata": {},
   "outputs": [],
   "source": []
  },
  {
   "cell_type": "code",
   "execution_count": null,
   "id": "356b0d9b",
   "metadata": {},
   "outputs": [],
   "source": []
  },
  {
   "cell_type": "code",
   "execution_count": null,
   "id": "1f1cd34c",
   "metadata": {},
   "outputs": [],
   "source": []
  },
  {
   "cell_type": "code",
   "execution_count": null,
   "id": "9b67f20e",
   "metadata": {},
   "outputs": [],
   "source": []
  },
  {
   "cell_type": "code",
   "execution_count": null,
   "id": "a79e3176",
   "metadata": {},
   "outputs": [],
   "source": []
  },
  {
   "cell_type": "code",
   "execution_count": null,
   "id": "1bc7e0a5",
   "metadata": {},
   "outputs": [],
   "source": []
  },
  {
   "cell_type": "code",
   "execution_count": null,
   "id": "85003a7a",
   "metadata": {},
   "outputs": [],
   "source": []
  },
  {
   "cell_type": "code",
   "execution_count": null,
   "id": "4b736940",
   "metadata": {},
   "outputs": [],
   "source": []
  },
  {
   "cell_type": "code",
   "execution_count": null,
   "id": "fcaee586",
   "metadata": {},
   "outputs": [],
   "source": []
  },
  {
   "cell_type": "code",
   "execution_count": null,
   "id": "9a263043",
   "metadata": {},
   "outputs": [],
   "source": []
  },
  {
   "cell_type": "code",
   "execution_count": null,
   "id": "3679cace",
   "metadata": {},
   "outputs": [],
   "source": []
  }
 ],
 "metadata": {
  "kernelspec": {
   "display_name": "Python 3.10.6 ('hw3-kuFyMz3v')",
   "language": "python",
   "name": "python3"
  },
  "language_info": {
   "codemirror_mode": {
    "name": "ipython",
    "version": 3
   },
   "file_extension": ".py",
   "mimetype": "text/x-python",
   "name": "python",
   "nbconvert_exporter": "python",
   "pygments_lexer": "ipython3",
   "version": "3.10.6"
  },
  "vscode": {
   "interpreter": {
    "hash": "f746f226991add0b8820f207c95dc3682b02856d8429a7233e55b6a4b3fa6713"
   }
  }
 },
 "nbformat": 4,
 "nbformat_minor": 5
}
